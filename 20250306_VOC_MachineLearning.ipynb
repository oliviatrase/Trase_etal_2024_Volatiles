{
 "cells": [
  {
   "cell_type": "code",
   "execution_count": 1,
   "metadata": {},
   "outputs": [
    {
     "name": "stdout",
     "output_type": "stream",
     "text": [
      "Python 3.8.3\n"
     ]
    }
   ],
   "source": [
    "! python --version"
   ]
  },
  {
   "cell_type": "markdown",
   "metadata": {},
   "source": [
    "### Import Libraries"
   ]
  },
  {
   "cell_type": "code",
   "execution_count": 2,
   "metadata": {},
   "outputs": [],
   "source": [
    "import pandas as pd\n",
    "import numpy as np\n",
    "import seaborn as sns\n",
    "import matplotlib.pyplot as plt\n",
    "import xgboost as xgb\n",
    "from sklearn.model_selection import train_test_split, GridSearchCV\n",
    "from sklearn.pipeline import Pipeline\n",
    "from sklearn.preprocessing import StandardScaler\n",
    "from sklearn.metrics import make_scorer, confusion_matrix\n",
    "from sklearn.utils import resample\n",
    "from sklearn.ensemble import RandomForestClassifier\n",
    "from sklearn.linear_model import LogisticRegression\n",
    "from sklearn.svm import SVC\n",
    "from sklearn.neighbors import KNeighborsClassifier\n",
    "from sklearn.decomposition import PCA\n",
    "from sklearn.inspection import permutation_importance\n",
    "from sklearn.feature_selection import RFE\n",
    "from statsmodels.stats.outliers_influence import variance_inflation_factor\n",
    "scale = StandardScaler()"
   ]
  },
  {
   "cell_type": "markdown",
   "metadata": {},
   "source": [
    "### Import Data"
   ]
  },
  {
   "cell_type": "code",
   "execution_count": 3,
   "metadata": {},
   "outputs": [
    {
     "data": {
      "text/html": [
       "<div>\n",
       "<style scoped>\n",
       "    .dataframe tbody tr th:only-of-type {\n",
       "        vertical-align: middle;\n",
       "    }\n",
       "\n",
       "    .dataframe tbody tr th {\n",
       "        vertical-align: top;\n",
       "    }\n",
       "\n",
       "    .dataframe thead th {\n",
       "        text-align: right;\n",
       "    }\n",
       "</style>\n",
       "<table border=\"1\" class=\"dataframe\">\n",
       "  <thead>\n",
       "    <tr style=\"text-align: right;\">\n",
       "      <th></th>\n",
       "      <th>SoilType</th>\n",
       "      <th>WCR</th>\n",
       "      <th>Variety</th>\n",
       "      <th>Block</th>\n",
       "      <th>8-Heptadecene</th>\n",
       "      <th>(-)-Menthol</th>\n",
       "      <th>alpha-muurolene</th>\n",
       "      <th>Unknown RI 1061.3</th>\n",
       "      <th>3-Heptyl formate</th>\n",
       "      <th>1-Hexanol, 2-ethyl-</th>\n",
       "      <th>...</th>\n",
       "      <th>Unknown RI 1125.8</th>\n",
       "      <th>Unknown RI 1045.5</th>\n",
       "      <th>Caryophyllene</th>\n",
       "      <th>Unknown RI 1302.4</th>\n",
       "      <th>p-ethyl acetophenone</th>\n",
       "      <th>Benzothiazole</th>\n",
       "      <th>Unknown RI 899.2</th>\n",
       "      <th>Acetophenone</th>\n",
       "      <th>alpha-Phellandrene</th>\n",
       "      <th>Totals</th>\n",
       "    </tr>\n",
       "    <tr>\n",
       "      <th>Unnamed: 0</th>\n",
       "      <th></th>\n",
       "      <th></th>\n",
       "      <th></th>\n",
       "      <th></th>\n",
       "      <th></th>\n",
       "      <th></th>\n",
       "      <th></th>\n",
       "      <th></th>\n",
       "      <th></th>\n",
       "      <th></th>\n",
       "      <th></th>\n",
       "      <th></th>\n",
       "      <th></th>\n",
       "      <th></th>\n",
       "      <th></th>\n",
       "      <th></th>\n",
       "      <th></th>\n",
       "      <th></th>\n",
       "      <th></th>\n",
       "      <th></th>\n",
       "      <th></th>\n",
       "    </tr>\n",
       "  </thead>\n",
       "  <tbody>\n",
       "    <tr>\n",
       "      <th>A09</th>\n",
       "      <td>CCFallow</td>\n",
       "      <td>no</td>\n",
       "      <td>MastersChoice</td>\n",
       "      <td>2</td>\n",
       "      <td>0.000000</td>\n",
       "      <td>1.198596</td>\n",
       "      <td>4.448340</td>\n",
       "      <td>78.148098</td>\n",
       "      <td>4.227219</td>\n",
       "      <td>23.936098</td>\n",
       "      <td>...</td>\n",
       "      <td>2.393744</td>\n",
       "      <td>11.356703</td>\n",
       "      <td>5.602171</td>\n",
       "      <td>6.200211</td>\n",
       "      <td>6.549249</td>\n",
       "      <td>2.423210</td>\n",
       "      <td>2.025090</td>\n",
       "      <td>2.554586</td>\n",
       "      <td>5.411014</td>\n",
       "      <td>553.749125</td>\n",
       "    </tr>\n",
       "    <tr>\n",
       "      <th>A10</th>\n",
       "      <td>CCFallow</td>\n",
       "      <td>yes</td>\n",
       "      <td>MastersChoice</td>\n",
       "      <td>2</td>\n",
       "      <td>0.000000</td>\n",
       "      <td>2.386610</td>\n",
       "      <td>6.055481</td>\n",
       "      <td>60.886522</td>\n",
       "      <td>6.756527</td>\n",
       "      <td>44.031606</td>\n",
       "      <td>...</td>\n",
       "      <td>4.708354</td>\n",
       "      <td>23.892494</td>\n",
       "      <td>38.936720</td>\n",
       "      <td>8.532684</td>\n",
       "      <td>5.054594</td>\n",
       "      <td>9.923057</td>\n",
       "      <td>1.824835</td>\n",
       "      <td>4.371371</td>\n",
       "      <td>6.886684</td>\n",
       "      <td>793.835328</td>\n",
       "    </tr>\n",
       "    <tr>\n",
       "      <th>A11</th>\n",
       "      <td>CCFallow</td>\n",
       "      <td>yes</td>\n",
       "      <td>MastersChoice</td>\n",
       "      <td>2</td>\n",
       "      <td>0.000000</td>\n",
       "      <td>2.006937</td>\n",
       "      <td>4.850652</td>\n",
       "      <td>57.391168</td>\n",
       "      <td>13.378667</td>\n",
       "      <td>37.014280</td>\n",
       "      <td>...</td>\n",
       "      <td>1.469423</td>\n",
       "      <td>16.446731</td>\n",
       "      <td>12.913093</td>\n",
       "      <td>8.305178</td>\n",
       "      <td>3.415067</td>\n",
       "      <td>3.346420</td>\n",
       "      <td>1.731841</td>\n",
       "      <td>3.043973</td>\n",
       "      <td>5.432817</td>\n",
       "      <td>626.203326</td>\n",
       "    </tr>\n",
       "    <tr>\n",
       "      <th>A12</th>\n",
       "      <td>CCFallow</td>\n",
       "      <td>no</td>\n",
       "      <td>MastersChoice</td>\n",
       "      <td>2</td>\n",
       "      <td>0.000000</td>\n",
       "      <td>0.000000</td>\n",
       "      <td>1.443654</td>\n",
       "      <td>16.542691</td>\n",
       "      <td>0.000000</td>\n",
       "      <td>14.408412</td>\n",
       "      <td>...</td>\n",
       "      <td>1.266995</td>\n",
       "      <td>3.474925</td>\n",
       "      <td>5.016997</td>\n",
       "      <td>2.308813</td>\n",
       "      <td>3.087856</td>\n",
       "      <td>1.191454</td>\n",
       "      <td>1.698009</td>\n",
       "      <td>4.551204</td>\n",
       "      <td>0.775725</td>\n",
       "      <td>205.899641</td>\n",
       "    </tr>\n",
       "    <tr>\n",
       "      <th>A13</th>\n",
       "      <td>CCFallow</td>\n",
       "      <td>yes</td>\n",
       "      <td>MastersChoice</td>\n",
       "      <td>2</td>\n",
       "      <td>0.258336</td>\n",
       "      <td>0.000000</td>\n",
       "      <td>3.205233</td>\n",
       "      <td>26.233618</td>\n",
       "      <td>0.000000</td>\n",
       "      <td>27.070512</td>\n",
       "      <td>...</td>\n",
       "      <td>1.635795</td>\n",
       "      <td>4.566233</td>\n",
       "      <td>4.700896</td>\n",
       "      <td>2.643314</td>\n",
       "      <td>2.397482</td>\n",
       "      <td>0.297849</td>\n",
       "      <td>1.825091</td>\n",
       "      <td>4.353896</td>\n",
       "      <td>0.797523</td>\n",
       "      <td>330.690107</td>\n",
       "    </tr>\n",
       "  </tbody>\n",
       "</table>\n",
       "<p>5 rows × 67 columns</p>\n",
       "</div>"
      ],
      "text/plain": [
       "            SoilType  WCR        Variety  Block  8-Heptadecene  (-)-Menthol  \\\n",
       "Unnamed: 0                                                                    \n",
       "A09         CCFallow   no  MastersChoice      2       0.000000     1.198596   \n",
       "A10         CCFallow  yes  MastersChoice      2       0.000000     2.386610   \n",
       "A11         CCFallow  yes  MastersChoice      2       0.000000     2.006937   \n",
       "A12         CCFallow   no  MastersChoice      2       0.000000     0.000000   \n",
       "A13         CCFallow  yes  MastersChoice      2       0.258336     0.000000   \n",
       "\n",
       "            alpha-muurolene  Unknown RI 1061.3  3-Heptyl formate  \\\n",
       "Unnamed: 0                                                         \n",
       "A09                4.448340          78.148098          4.227219   \n",
       "A10                6.055481          60.886522          6.756527   \n",
       "A11                4.850652          57.391168         13.378667   \n",
       "A12                1.443654          16.542691          0.000000   \n",
       "A13                3.205233          26.233618          0.000000   \n",
       "\n",
       "            1-Hexanol, 2-ethyl-  ...  Unknown RI 1125.8  Unknown RI 1045.5  \\\n",
       "Unnamed: 0                       ...                                         \n",
       "A09                   23.936098  ...           2.393744          11.356703   \n",
       "A10                   44.031606  ...           4.708354          23.892494   \n",
       "A11                   37.014280  ...           1.469423          16.446731   \n",
       "A12                   14.408412  ...           1.266995           3.474925   \n",
       "A13                   27.070512  ...           1.635795           4.566233   \n",
       "\n",
       "            Caryophyllene  Unknown RI 1302.4  p-ethyl acetophenone  \\\n",
       "Unnamed: 0                                                           \n",
       "A09              5.602171           6.200211              6.549249   \n",
       "A10             38.936720           8.532684              5.054594   \n",
       "A11             12.913093           8.305178              3.415067   \n",
       "A12              5.016997           2.308813              3.087856   \n",
       "A13              4.700896           2.643314              2.397482   \n",
       "\n",
       "            Benzothiazole  Unknown RI 899.2  Acetophenone  alpha-Phellandrene  \\\n",
       "Unnamed: 0                                                                      \n",
       "A09              2.423210          2.025090      2.554586            5.411014   \n",
       "A10              9.923057          1.824835      4.371371            6.886684   \n",
       "A11              3.346420          1.731841      3.043973            5.432817   \n",
       "A12              1.191454          1.698009      4.551204            0.775725   \n",
       "A13              0.297849          1.825091      4.353896            0.797523   \n",
       "\n",
       "                Totals  \n",
       "Unnamed: 0              \n",
       "A09         553.749125  \n",
       "A10         793.835328  \n",
       "A11         626.203326  \n",
       "A12         205.899641  \n",
       "A13         330.690107  \n",
       "\n",
       "[5 rows x 67 columns]"
      ]
     },
     "execution_count": 3,
     "metadata": {},
     "output_type": "execute_result"
    }
   ],
   "source": [
    "# load in data\n",
    "df = pd.read_csv('https://raw.githubusercontent.com/oliviatrase/Trase_etal_2025_Volatiles/refs/heads/main/20250306_Volatiles_normalized.csv')\n",
    "df.set_index('Unnamed: 0', drop = True, inplace = True)\n",
    "df.head()"
   ]
  },
  {
   "cell_type": "markdown",
   "metadata": {},
   "source": [
    "### Normalize Data"
   ]
  },
  {
   "cell_type": "markdown",
   "metadata": {},
   "source": [
    "Experiments were done on different days, and the day to day variation is high. Therefore, in order to create a normalized data set to use with machine learning algorithms, I need to normalize the data by block. To do this, I have chose to drag the within-block average total VOC content toward the whole average total voc content by multiplying each value by a multiplier (here calculated as the whole average total voc value divided by the within-block average total voc value."
   ]
  },
  {
   "cell_type": "code",
   "execution_count": 4,
   "metadata": {},
   "outputs": [
    {
     "data": {
      "text/html": [
       "<div>\n",
       "<style scoped>\n",
       "    .dataframe tbody tr th:only-of-type {\n",
       "        vertical-align: middle;\n",
       "    }\n",
       "\n",
       "    .dataframe tbody tr th {\n",
       "        vertical-align: top;\n",
       "    }\n",
       "\n",
       "    .dataframe thead th {\n",
       "        text-align: right;\n",
       "    }\n",
       "</style>\n",
       "<table border=\"1\" class=\"dataframe\">\n",
       "  <thead>\n",
       "    <tr style=\"text-align: right;\">\n",
       "      <th></th>\n",
       "      <th>8-Heptadecene</th>\n",
       "      <th>(-)-Menthol</th>\n",
       "      <th>alpha-muurolene</th>\n",
       "      <th>Unknown RI 1061.3</th>\n",
       "      <th>3-Heptyl formate</th>\n",
       "      <th>1-Hexanol, 2-ethyl-</th>\n",
       "      <th>3-Octanone</th>\n",
       "      <th>Unknown RI 946.6</th>\n",
       "      <th>Ethanol, 2-(2-ethoxyethoxy)-</th>\n",
       "      <th>1-Decanol</th>\n",
       "      <th>...</th>\n",
       "      <th>Unknown RI 1045.5</th>\n",
       "      <th>Caryophyllene</th>\n",
       "      <th>Unknown RI 1302.4</th>\n",
       "      <th>p-ethyl acetophenone</th>\n",
       "      <th>Benzothiazole</th>\n",
       "      <th>Unknown RI 899.2</th>\n",
       "      <th>Acetophenone</th>\n",
       "      <th>alpha-Phellandrene</th>\n",
       "      <th>Totals</th>\n",
       "      <th>WCR</th>\n",
       "    </tr>\n",
       "    <tr>\n",
       "      <th>Unnamed: 0</th>\n",
       "      <th></th>\n",
       "      <th></th>\n",
       "      <th></th>\n",
       "      <th></th>\n",
       "      <th></th>\n",
       "      <th></th>\n",
       "      <th></th>\n",
       "      <th></th>\n",
       "      <th></th>\n",
       "      <th></th>\n",
       "      <th></th>\n",
       "      <th></th>\n",
       "      <th></th>\n",
       "      <th></th>\n",
       "      <th></th>\n",
       "      <th></th>\n",
       "      <th></th>\n",
       "      <th></th>\n",
       "      <th></th>\n",
       "      <th></th>\n",
       "      <th></th>\n",
       "    </tr>\n",
       "  </thead>\n",
       "  <tbody>\n",
       "    <tr>\n",
       "      <th>A09</th>\n",
       "      <td>0.000000</td>\n",
       "      <td>1.540462</td>\n",
       "      <td>5.717104</td>\n",
       "      <td>100.437660</td>\n",
       "      <td>5.432915</td>\n",
       "      <td>30.763202</td>\n",
       "      <td>0.797387</td>\n",
       "      <td>0.000000</td>\n",
       "      <td>5.756338</td>\n",
       "      <td>13.404085</td>\n",
       "      <td>...</td>\n",
       "      <td>14.595885</td>\n",
       "      <td>7.200034</td>\n",
       "      <td>7.968647</td>\n",
       "      <td>8.417240</td>\n",
       "      <td>3.114363</td>\n",
       "      <td>2.602690</td>\n",
       "      <td>3.283210</td>\n",
       "      <td>6.954355</td>\n",
       "      <td>711.690596</td>\n",
       "      <td>no</td>\n",
       "    </tr>\n",
       "    <tr>\n",
       "      <th>A10</th>\n",
       "      <td>0.000000</td>\n",
       "      <td>3.067324</td>\n",
       "      <td>7.782638</td>\n",
       "      <td>78.252702</td>\n",
       "      <td>8.683638</td>\n",
       "      <td>56.590392</td>\n",
       "      <td>3.821772</td>\n",
       "      <td>0.000000</td>\n",
       "      <td>7.079588</td>\n",
       "      <td>10.272609</td>\n",
       "      <td>...</td>\n",
       "      <td>30.707161</td>\n",
       "      <td>50.042332</td>\n",
       "      <td>10.966394</td>\n",
       "      <td>6.496276</td>\n",
       "      <td>12.753332</td>\n",
       "      <td>2.345318</td>\n",
       "      <td>5.618183</td>\n",
       "      <td>8.850918</td>\n",
       "      <td>1020.254682</td>\n",
       "      <td>yes</td>\n",
       "    </tr>\n",
       "    <tr>\n",
       "      <th>A11</th>\n",
       "      <td>0.000000</td>\n",
       "      <td>2.579360</td>\n",
       "      <td>6.234165</td>\n",
       "      <td>73.760395</td>\n",
       "      <td>17.194559</td>\n",
       "      <td>47.571569</td>\n",
       "      <td>2.926217</td>\n",
       "      <td>0.000000</td>\n",
       "      <td>5.003152</td>\n",
       "      <td>7.435354</td>\n",
       "      <td>...</td>\n",
       "      <td>21.137702</td>\n",
       "      <td>16.596192</td>\n",
       "      <td>10.673997</td>\n",
       "      <td>4.389120</td>\n",
       "      <td>4.300893</td>\n",
       "      <td>2.225800</td>\n",
       "      <td>3.912181</td>\n",
       "      <td>6.982377</td>\n",
       "      <td>804.810334</td>\n",
       "      <td>yes</td>\n",
       "    </tr>\n",
       "    <tr>\n",
       "      <th>A12</th>\n",
       "      <td>0.000000</td>\n",
       "      <td>0.000000</td>\n",
       "      <td>1.855416</td>\n",
       "      <td>21.261031</td>\n",
       "      <td>0.000000</td>\n",
       "      <td>18.518010</td>\n",
       "      <td>0.755647</td>\n",
       "      <td>3.411191</td>\n",
       "      <td>0.482312</td>\n",
       "      <td>5.049466</td>\n",
       "      <td>...</td>\n",
       "      <td>4.466050</td>\n",
       "      <td>6.447956</td>\n",
       "      <td>2.967337</td>\n",
       "      <td>3.968581</td>\n",
       "      <td>1.531284</td>\n",
       "      <td>2.182318</td>\n",
       "      <td>5.849308</td>\n",
       "      <td>0.996979</td>\n",
       "      <td>264.626762</td>\n",
       "      <td>no</td>\n",
       "    </tr>\n",
       "    <tr>\n",
       "      <th>A13</th>\n",
       "      <td>0.332019</td>\n",
       "      <td>0.000000</td>\n",
       "      <td>4.119436</td>\n",
       "      <td>33.716025</td>\n",
       "      <td>0.000000</td>\n",
       "      <td>34.791620</td>\n",
       "      <td>2.008455</td>\n",
       "      <td>0.151656</td>\n",
       "      <td>1.544085</td>\n",
       "      <td>4.364320</td>\n",
       "      <td>...</td>\n",
       "      <td>5.868623</td>\n",
       "      <td>6.041695</td>\n",
       "      <td>3.397246</td>\n",
       "      <td>3.081297</td>\n",
       "      <td>0.382802</td>\n",
       "      <td>2.345647</td>\n",
       "      <td>5.595723</td>\n",
       "      <td>1.024994</td>\n",
       "      <td>425.010223</td>\n",
       "      <td>yes</td>\n",
       "    </tr>\n",
       "  </tbody>\n",
       "</table>\n",
       "<p>5 rows × 64 columns</p>\n",
       "</div>"
      ],
      "text/plain": [
       "            8-Heptadecene  (-)-Menthol  alpha-muurolene  Unknown RI 1061.3  \\\n",
       "Unnamed: 0                                                                   \n",
       "A09              0.000000     1.540462         5.717104         100.437660   \n",
       "A10              0.000000     3.067324         7.782638          78.252702   \n",
       "A11              0.000000     2.579360         6.234165          73.760395   \n",
       "A12              0.000000     0.000000         1.855416          21.261031   \n",
       "A13              0.332019     0.000000         4.119436          33.716025   \n",
       "\n",
       "            3-Heptyl formate  1-Hexanol, 2-ethyl-  3-Octanone  \\\n",
       "Unnamed: 0                                                      \n",
       "A09                 5.432915            30.763202    0.797387   \n",
       "A10                 8.683638            56.590392    3.821772   \n",
       "A11                17.194559            47.571569    2.926217   \n",
       "A12                 0.000000            18.518010    0.755647   \n",
       "A13                 0.000000            34.791620    2.008455   \n",
       "\n",
       "            Unknown RI 946.6  Ethanol, 2-(2-ethoxyethoxy)-  1-Decanol  ...  \\\n",
       "Unnamed: 0                                                             ...   \n",
       "A09                 0.000000                      5.756338  13.404085  ...   \n",
       "A10                 0.000000                      7.079588  10.272609  ...   \n",
       "A11                 0.000000                      5.003152   7.435354  ...   \n",
       "A12                 3.411191                      0.482312   5.049466  ...   \n",
       "A13                 0.151656                      1.544085   4.364320  ...   \n",
       "\n",
       "            Unknown RI 1045.5  Caryophyllene  Unknown RI 1302.4  \\\n",
       "Unnamed: 0                                                        \n",
       "A09                 14.595885       7.200034           7.968647   \n",
       "A10                 30.707161      50.042332          10.966394   \n",
       "A11                 21.137702      16.596192          10.673997   \n",
       "A12                  4.466050       6.447956           2.967337   \n",
       "A13                  5.868623       6.041695           3.397246   \n",
       "\n",
       "            p-ethyl acetophenone  Benzothiazole  Unknown RI 899.2  \\\n",
       "Unnamed: 0                                                          \n",
       "A09                     8.417240       3.114363          2.602690   \n",
       "A10                     6.496276      12.753332          2.345318   \n",
       "A11                     4.389120       4.300893          2.225800   \n",
       "A12                     3.968581       1.531284          2.182318   \n",
       "A13                     3.081297       0.382802          2.345647   \n",
       "\n",
       "            Acetophenone  alpha-Phellandrene       Totals  WCR  \n",
       "Unnamed: 0                                                      \n",
       "A09             3.283210            6.954355   711.690596   no  \n",
       "A10             5.618183            8.850918  1020.254682  yes  \n",
       "A11             3.912181            6.982377   804.810334  yes  \n",
       "A12             5.849308            0.996979   264.626762   no  \n",
       "A13             5.595723            1.024994   425.010223  yes  \n",
       "\n",
       "[5 rows x 64 columns]"
      ]
     },
     "execution_count": 4,
     "metadata": {},
     "output_type": "execute_result"
    }
   ],
   "source": [
    "## Normalize by Block\n",
    "\n",
    "## get average total voc content\n",
    "total_avg = df['Totals'].mean()\n",
    "\n",
    "## loop through each block\n",
    "block_df_list = []\n",
    "for i in range(5):\n",
    "    ## subset by block\n",
    "    block = df['Block'].unique()[i]\n",
    "    block_df = df[df['Block']==block]\n",
    "    \n",
    "    ## get avg total VOC content per block\n",
    "    block_total_avg = block_df['Totals'].mean()\n",
    "    \n",
    "    ## divide total voc avg by block avg\n",
    "    multiplier = total_avg/block_total_avg\n",
    "    \n",
    "    ## multiply each value by the multiplier to drag block avg toward total avg\n",
    "    block_df2 = block_df.drop(['SoilType','Variety','Block','WCR'],axis=1)\n",
    "    block_df2 = block_df2*multiplier\n",
    "    \n",
    "    ## replace WCR column\n",
    "    block_df2['WCR'] = block_df['WCR']\n",
    "\n",
    "    ## append new normalized block df to list\n",
    "    block_df_list.append(block_df2)\n",
    "\n",
    "## Concatenate list of block data frames into one dataframe\n",
    "df_norm = pd.concat(block_df_list)\n",
    "\n",
    "df_norm.head()"
   ]
  },
  {
   "cell_type": "markdown",
   "metadata": {},
   "source": [
    "### Prepare Data for ML"
   ]
  },
  {
   "cell_type": "code",
   "execution_count": 5,
   "metadata": {},
   "outputs": [],
   "source": [
    "## Transform WCR treatments into codes for ML\n",
    "wcrcodes = {'yes': 1,'no': 0, 0: 10}\n",
    "df_norm['WCRcode'] = [wcrcodes[item] for item in df_norm['WCR']]\n",
    "\n",
    "## Drop WCR treatment column and keep WCR code column\n",
    "df_norm.drop('WCR', axis=1, inplace=True) \n",
    "\n",
    "## Drop Totals column\n",
    "df_norm.drop('Totals', axis = 1, inplace = True)"
   ]
  },
  {
   "cell_type": "markdown",
   "metadata": {},
   "source": [
    "### Check Correlations of VOCs with presence of WCR"
   ]
  },
  {
   "cell_type": "code",
   "execution_count": 6,
   "metadata": {},
   "outputs": [
    {
     "data": {
      "text/html": [
       "<div>\n",
       "<style scoped>\n",
       "    .dataframe tbody tr th:only-of-type {\n",
       "        vertical-align: middle;\n",
       "    }\n",
       "\n",
       "    .dataframe tbody tr th {\n",
       "        vertical-align: top;\n",
       "    }\n",
       "\n",
       "    .dataframe thead th {\n",
       "        text-align: right;\n",
       "    }\n",
       "</style>\n",
       "<table border=\"1\" class=\"dataframe\">\n",
       "  <thead>\n",
       "    <tr style=\"text-align: right;\">\n",
       "      <th></th>\n",
       "      <th>Feature</th>\n",
       "      <th>Correlation_with_WCRcode</th>\n",
       "    </tr>\n",
       "  </thead>\n",
       "  <tbody>\n",
       "    <tr>\n",
       "      <th>48</th>\n",
       "      <td>2,5-Cyclohexadiene-1,4-dione, 2,6-bis(1,1-dime...</td>\n",
       "      <td>0.315690</td>\n",
       "    </tr>\n",
       "    <tr>\n",
       "      <th>19</th>\n",
       "      <td>beta-Selinene</td>\n",
       "      <td>0.259624</td>\n",
       "    </tr>\n",
       "    <tr>\n",
       "      <th>32</th>\n",
       "      <td>Germacrene D</td>\n",
       "      <td>0.259008</td>\n",
       "    </tr>\n",
       "    <tr>\n",
       "      <th>23</th>\n",
       "      <td>(E)-4,8-Dimethylnona-1,3,7-triene</td>\n",
       "      <td>0.258751</td>\n",
       "    </tr>\n",
       "    <tr>\n",
       "      <th>1</th>\n",
       "      <td>(-)-Menthol</td>\n",
       "      <td>0.253242</td>\n",
       "    </tr>\n",
       "  </tbody>\n",
       "</table>\n",
       "</div>"
      ],
      "text/plain": [
       "                                              Feature  \\\n",
       "48  2,5-Cyclohexadiene-1,4-dione, 2,6-bis(1,1-dime...   \n",
       "19                                      beta-Selinene   \n",
       "32                                       Germacrene D   \n",
       "23                  (E)-4,8-Dimethylnona-1,3,7-triene   \n",
       "1                                         (-)-Menthol   \n",
       "\n",
       "    Correlation_with_WCRcode  \n",
       "48                  0.315690  \n",
       "19                  0.259624  \n",
       "32                  0.259008  \n",
       "23                  0.258751  \n",
       "1                   0.253242  "
      ]
     },
     "execution_count": 6,
     "metadata": {},
     "output_type": "execute_result"
    }
   ],
   "source": [
    "## get correlations\n",
    "correlations = df_norm.corr()\n",
    "\n",
    "## Extract correlations with the target variable 'WCRcode'\n",
    "target_correlations = correlations['WCRcode'].drop('WCRcode') \n",
    "\n",
    "## take absolute values of correlations\n",
    "target_correlations = target_correlations.abs()\n",
    "\n",
    "## Convert the series to a DataFrame with column names for better visualization\n",
    "target_correlations_df = target_correlations.to_frame().reset_index()\n",
    "target_correlations_df.columns = ['Feature', 'Correlation_with_WCRcode']\n",
    "\n",
    "## Sort by absolute value of correlation\n",
    "target_correlations_df = target_correlations_df.reindex(target_correlations_df.Correlation_with_WCRcode.abs().sort_values(ascending=False).index)\n",
    "\n",
    "target_correlations_df.head()"
   ]
  },
  {
   "cell_type": "markdown",
   "metadata": {},
   "source": [
    "The highest correlations of VOCs with WCR presence are 25%-32%"
   ]
  },
  {
   "cell_type": "markdown",
   "metadata": {},
   "source": [
    "### Split data into feature table and target labels for ML"
   ]
  },
  {
   "cell_type": "code",
   "execution_count": 7,
   "metadata": {},
   "outputs": [],
   "source": [
    "## Sample data frame creation\n",
    "## 'X' contains features (chemical compounds) and 'y' contains target labels\n",
    "X = df_norm.drop('WCRcode',axis=1)\n",
    "y = df_norm['WCRcode']"
   ]
  },
  {
   "cell_type": "markdown",
   "metadata": {},
   "source": [
    "### Split data into training data and testing data"
   ]
  },
  {
   "cell_type": "markdown",
   "metadata": {},
   "source": [
    "For these data, the the model will be trained on 80% of the data and tested on 20% of the data"
   ]
  },
  {
   "cell_type": "code",
   "execution_count": 8,
   "metadata": {},
   "outputs": [],
   "source": [
    "## Split data into train and test sets\n",
    "X_train, X_test, y_train, y_test = train_test_split(X, y, test_size=0.2, random_state=42)"
   ]
  },
  {
   "cell_type": "markdown",
   "metadata": {},
   "source": [
    "### Select features which have higher correlation with WCR presence"
   ]
  },
  {
   "cell_type": "markdown",
   "metadata": {},
   "source": [
    "Here we select features which have a higher correlation with WCR presence (over 25%)."
   ]
  },
  {
   "cell_type": "code",
   "execution_count": 9,
   "metadata": {},
   "outputs": [
    {
     "name": "stdout",
     "output_type": "stream",
     "text": [
      "Selected features correlated with WCR presence: (['(-)-Menthol', 'beta-Selinene', '(E)-4,8-Dimethylnona-1,3,7-triene', 'Germacrene D', '2,5-Cyclohexadiene-1,4-dione, 2,6-bis(1,1-dimethylethyl)-'])\n"
     ]
    }
   ],
   "source": [
    "# Set threshold for significant correlation with target\n",
    "threshold_target_corr = 0.25\n",
    "selected_features = target_correlations[abs(target_correlations) > threshold_target_corr].index.tolist()\n",
    "print(f\"Selected features correlated with WCR presence: ({selected_features})\")"
   ]
  },
  {
   "cell_type": "markdown",
   "metadata": {},
   "source": [
    "### Calculate the variance inflation factor (VIF) to check for multicollinearity"
   ]
  },
  {
   "cell_type": "markdown",
   "metadata": {},
   "source": [
    "Here we determine that we can keep any features which have a VIF of less than 10."
   ]
  },
  {
   "cell_type": "code",
   "execution_count": 10,
   "metadata": {},
   "outputs": [
    {
     "name": "stdout",
     "output_type": "stream",
     "text": [
      "Selected features with VIF below threshold (['(-)-Menthol', 'beta-Selinene', '(E)-4,8-Dimethylnona-1,3,7-triene', 'Germacrene D', '2,5-Cyclohexadiene-1,4-dione, 2,6-bis(1,1-dimethylethyl)-'])\n"
     ]
    }
   ],
   "source": [
    "## Subset normalized data frame by selecting only highly correlated features\n",
    "selected_data = df_norm[selected_features]\n",
    "\n",
    "## Initialize the dataframe to store VIF values\n",
    "vif_data = pd.DataFrame()\n",
    "vif_data[\"Feature\"] = selected_data.columns\n",
    "\n",
    "## Calculate VIF for each feature\n",
    "vif_data[\"VIF\"] = [variance_inflation_factor(selected_data.values, i) for i in range(len(selected_data.columns))]\n",
    "\n",
    "## Set a threshold for VIF to detect multicollinearity\n",
    "threshold_vif = 10\n",
    "selected_features = vif_data[vif_data[\"VIF\"] < threshold_vif][\"Feature\"].tolist()\n",
    "print(f\"Selected features with VIF below threshold ({selected_features})\")"
   ]
  },
  {
   "cell_type": "markdown",
   "metadata": {},
   "source": [
    "### Subset training data and testing data using the selected features"
   ]
  },
  {
   "cell_type": "code",
   "execution_count": 11,
   "metadata": {},
   "outputs": [],
   "source": [
    "## Change the train and test sets to only have the selected features\n",
    "X_train = X_train[selected_features]\n",
    "X_test = X_test[selected_features]"
   ]
  },
  {
   "cell_type": "markdown",
   "metadata": {},
   "source": [
    "### Define a scoring function to optimize for accuracy and recall"
   ]
  },
  {
   "cell_type": "markdown",
   "metadata": {},
   "source": [
    "Given that the purpose of this algorithm is to generate hypotheses determining which volatiles are likely signals of WCR infestation, it is important to include recall as well as accuracy in determining success. "
   ]
  },
  {
   "cell_type": "code",
   "execution_count": 12,
   "metadata": {},
   "outputs": [],
   "source": [
    "## Define scoring function\n",
    "def custom_scoring_function(y_true, y_pred):\n",
    "    ## Extract values from confusion matrix\n",
    "    tn, fp, fn, tp = confusion_matrix(y_true, y_pred).ravel()\n",
    "\n",
    "    ## Calculate accuracy\n",
    "    accuracy = (tp + tn) / (tp+tn+fp+fn)\n",
    "    \n",
    "    ## Calculate recall score\n",
    "    recall = tp / (tp+fn)\n",
    "    \n",
    "    ## Calculate score\n",
    "    score = accuracy+recall\n",
    "    return score\n",
    "\n",
    "## Create scorer\n",
    "scorer = make_scorer(custom_scoring_function)"
   ]
  },
  {
   "cell_type": "markdown",
   "metadata": {},
   "source": [
    "### Define classifiers and grid parameters for grid search"
   ]
  },
  {
   "cell_type": "markdown",
   "metadata": {},
   "source": [
    "Here I would like to test a Random Forest algorithm, a Support Vector Machine, and a K-Nearest Neighbors algorithm to determine which algorith provides the best score (Accuracy + Recall)"
   ]
  },
  {
   "cell_type": "code",
   "execution_count": 13,
   "metadata": {},
   "outputs": [],
   "source": [
    "## Set Random State\n",
    "random_state = 42\n",
    "\n",
    "## Define classifiers\n",
    "classifiers = {\n",
    "    'RandomForest': RandomForestClassifier(random_state=random_state),\n",
    "    'SVM': SVC(random_state=random_state),\n",
    "    'KNN': KNeighborsClassifier()\n",
    "}\n",
    "\n",
    "## Create pipeline with scaling and classifier\n",
    "pipeline = Pipeline([\n",
    "    ('scaler', StandardScaler()),\n",
    "    ('classifier', None)\n",
    "])\n",
    "\n",
    "## Define parameter grids for grid search\n",
    "param_grids = {\n",
    "    'RandomForest': {'classifier__n_estimators': [1,2,3,4,5],\n",
    "                     'classifier__max_features': ['sqrt', 'log2'],\n",
    "                     'classifier__max_depth' : [1,2,3,4],\n",
    "                     'classifier__criterion' :['gini', 'entropy']},\n",
    "    'SVM': {'classifier__C': [0.1,0.5,1], \n",
    "            'classifier__kernel': ['linear', 'rbf']},\n",
    "    'KNN': {'classifier__n_neighbors': [2,3,4]}\n",
    "}"
   ]
  },
  {
   "cell_type": "markdown",
   "metadata": {},
   "source": [
    "### Run Grid Search for each of the classifiers"
   ]
  },
  {
   "cell_type": "markdown",
   "metadata": {},
   "source": [
    "I use the GridSearchVC function and cross validate 10 times for each combination of parameters."
   ]
  },
  {
   "cell_type": "code",
   "execution_count": 14,
   "metadata": {
    "scrolled": false
   },
   "outputs": [
    {
     "name": "stdout",
     "output_type": "stream",
     "text": [
      "Currently running RandomForest\n",
      "Currently running SVM\n",
      "Currently running KNN\n"
     ]
    }
   ],
   "source": [
    "results = {}\n",
    "for name, clf in classifiers.items():\n",
    "    print(f'Currently running {name}')\n",
    "    pipeline.set_params(classifier=clf)\n",
    "    param_grid = param_grids[name]\n",
    "    grid_search = GridSearchCV(pipeline, param_grid, scoring=scorer, cv=10)\n",
    "    grid_search.fit(X_train, y_train)\n",
    "    results[name] = grid_search"
   ]
  },
  {
   "cell_type": "markdown",
   "metadata": {},
   "source": [
    "### Get best parameters for Random Forest"
   ]
  },
  {
   "cell_type": "code",
   "execution_count": 15,
   "metadata": {},
   "outputs": [
    {
     "name": "stdout",
     "output_type": "stream",
     "text": [
      "Best parameters for RandomForest: criterion=entropy, max_depth=1, max_features=sqrt, n_estimators=1\n"
     ]
    }
   ],
   "source": [
    "criterion = results['RandomForest'].best_params_['classifier__criterion']\n",
    "max_depth = results['RandomForest'].best_params_['classifier__max_depth']\n",
    "max_features = results['RandomForest'].best_params_['classifier__max_features']\n",
    "n_estimators = results['RandomForest'].best_params_['classifier__n_estimators']\n",
    "print(f'Best parameters for RandomForest: criterion={criterion}, max_depth={max_depth}, max_features={max_features}, n_estimators={n_estimators}')"
   ]
  },
  {
   "cell_type": "markdown",
   "metadata": {},
   "source": [
    "### Run Random Forest Model using Best Parameters"
   ]
  },
  {
   "cell_type": "code",
   "execution_count": 25,
   "metadata": {},
   "outputs": [
    {
     "name": "stdout",
     "output_type": "stream",
     "text": [
      "True Negatives: 6, False Positives: 27, False Negatives: 1, True Positives: 44\n",
      "Accuracy: 0.64\n",
      "Precision: 0.62\n",
      "Recall: 0.98\n",
      "Custom Score: 1.62\n"
     ]
    }
   ],
   "source": [
    "##  Train the model\n",
    "model = RandomForestClassifier(n_estimators=n_estimators, criterion=criterion, max_depth=max_depth, max_features=max_features, random_state=random_state)\n",
    "model.fit(X_train, y_train)\n",
    "\n",
    "## Run the model on the test data\n",
    "y_pred = model.predict(X_test)\n",
    "\n",
    "## Look at accuracy/precision/recall/confusion matrix\n",
    "tn, fp, fn, tp = confusion_matrix(y_test, y_pred).ravel()\n",
    "print(f'True Negatives: {tn}, False Positives: {fp}, False Negatives: {fn}, True Positives: {tp}')\n",
    "print(f'Accuracy: {round((tn+tp)/(tn+fp+fn+tp),2)}')\n",
    "print(f'Precision: {round(tp/(tp+fp),2)}')\n",
    "print(f'Recall: {round(tp/(tp+fn),2)}')\n",
    "\n",
    "print(f'Custom Score: {round(((tn+tp)/(tn+fp+fn+tp))+(tp/(tp+fn)),2)}')"
   ]
  },
  {
   "cell_type": "markdown",
   "metadata": {},
   "source": [
    "### Get best parameters for Support Vector Machine"
   ]
  },
  {
   "cell_type": "code",
   "execution_count": 26,
   "metadata": {},
   "outputs": [
    {
     "name": "stdout",
     "output_type": "stream",
     "text": [
      "Best parameters for SVM: C=0.1, kernel=linear\n"
     ]
    }
   ],
   "source": [
    "c_value = results['SVM'].best_params_['classifier__C']\n",
    "kernel = results['SVM'].best_params_['classifier__kernel']\n",
    "print(f'Best parameters for SVM: C={c_value}, kernel={kernel}')"
   ]
  },
  {
   "cell_type": "markdown",
   "metadata": {},
   "source": [
    "### Run SVM using Best Parameters"
   ]
  },
  {
   "cell_type": "code",
   "execution_count": 27,
   "metadata": {},
   "outputs": [
    {
     "name": "stdout",
     "output_type": "stream",
     "text": [
      "True Negatives: 13, False Positives: 20, False Negatives: 9, True Positives: 36\n",
      "Accuracy: 0.63\n",
      "Precision: 0.64\n",
      "Recall: 0.8\n",
      "Custom Score: 1.43\n"
     ]
    }
   ],
   "source": [
    "##  Train the model\n",
    "model_svm = SVC(C=c_value,kernel=kernel)\n",
    "model_svm.fit(X_train, y_train)\n",
    "\n",
    "## Run the model on the test data\n",
    "y_pred_svm = model_svm.predict(X_test)\n",
    "\n",
    "## Look at accuracy/precision/recall/confusion matrix\n",
    "tn, fp, fn, tp = confusion_matrix(y_test, y_pred_svm).ravel()\n",
    "print(f'True Negatives: {tn}, False Positives: {fp}, False Negatives: {fn}, True Positives: {tp}')\n",
    "print(f'Accuracy: {round((tn+tp)/(tn+fp+fn+tp),2)}')\n",
    "print(f'Precision: {round(tp/(tp+fp),2)}')\n",
    "print(f'Recall: {round(tp/(tp+fn),2)}')\n",
    "\n",
    "print(f'Custom Score: {round(((tn+tp)/(tn+fp+fn+tp))+(tp/(tp+fn)),2)}')"
   ]
  },
  {
   "cell_type": "markdown",
   "metadata": {},
   "source": [
    "### Get best parameters for KNN"
   ]
  },
  {
   "cell_type": "code",
   "execution_count": 28,
   "metadata": {},
   "outputs": [
    {
     "name": "stdout",
     "output_type": "stream",
     "text": [
      "Best parameters for KNN: n_neighbors=3\n"
     ]
    }
   ],
   "source": [
    "n_value = results['KNN'].best_params_['classifier__n_neighbors']\n",
    "print(f'Best parameters for KNN: n_neighbors={n_value}')"
   ]
  },
  {
   "cell_type": "markdown",
   "metadata": {},
   "source": [
    "### Run KNN using Best Parameters"
   ]
  },
  {
   "cell_type": "code",
   "execution_count": 29,
   "metadata": {},
   "outputs": [
    {
     "name": "stdout",
     "output_type": "stream",
     "text": [
      "True Negatives: 20, False Positives: 13, False Negatives: 11, True Positives: 34\n",
      "Accuracy: 0.69\n",
      "Precision: 0.72\n",
      "Recall: 0.76\n",
      "Custom Score: 1.45\n"
     ]
    }
   ],
   "source": [
    "##  Train the model\n",
    "model_knn = KNeighborsClassifier(n_neighbors=n_value)\n",
    "model_knn.fit(X_train, y_train)\n",
    "\n",
    "## Run the model on the test data\n",
    "y_pred_knn = model_knn.predict(X_test)\n",
    "\n",
    "## Look at accuracy/precision/recall/confusion matrix\n",
    "tn, fp, fn, tp = confusion_matrix(y_test, y_pred_knn).ravel()\n",
    "print(f'True Negatives: {tn}, False Positives: {fp}, False Negatives: {fn}, True Positives: {tp}')\n",
    "print(f'Accuracy: {round((tn+tp)/(tn+fp+fn+tp),2)}')\n",
    "print(f'Precision: {round(tp/(tp+fp),2)}')\n",
    "print(f'Recall: {round(tp/(tp+fn),2)}')\n",
    "\n",
    "print(f'Custom Score: {round(((tn+tp)/(tn+fp+fn+tp))+(tp/(tp+fn)),2)}')"
   ]
  },
  {
   "cell_type": "markdown",
   "metadata": {},
   "source": [
    "#### Random Forest outperformed SVM and KNN"
   ]
  },
  {
   "cell_type": "markdown",
   "metadata": {},
   "source": [
    "### Check Feature Importance for Random Forest Classifier"
   ]
  },
  {
   "cell_type": "code",
   "execution_count": 30,
   "metadata": {},
   "outputs": [
    {
     "name": "stdout",
     "output_type": "stream",
     "text": [
      "                                             Feature  Gini Importance\n",
      "0                                        (-)-Menthol              1.0\n",
      "1                                      beta-Selinene              0.0\n",
      "2                  (E)-4,8-Dimethylnona-1,3,7-triene              0.0\n",
      "3                                       Germacrene D              0.0\n",
      "4  2,5-Cyclohexadiene-1,4-dione, 2,6-bis(1,1-dime...              0.0\n"
     ]
    }
   ],
   "source": [
    "## Get feature importances\n",
    "importances = model.feature_importances_\n",
    "\n",
    "## Put importances into data frame\n",
    "feature_imp_df = pd.DataFrame({'Feature': X_train.columns, 'Gini Importance': importances}).sort_values('Gini Importance', ascending=False) \n",
    "print(feature_imp_df)"
   ]
  },
  {
   "cell_type": "markdown",
   "metadata": {},
   "source": [
    "Menthol is the only feature important for the model"
   ]
  }
 ],
 "metadata": {
  "kernelspec": {
   "display_name": "Python 3",
   "language": "python",
   "name": "python3"
  },
  "language_info": {
   "codemirror_mode": {
    "name": "ipython",
    "version": 3
   },
   "file_extension": ".py",
   "mimetype": "text/x-python",
   "name": "python",
   "nbconvert_exporter": "python",
   "pygments_lexer": "ipython3",
   "version": "3.8.3"
  }
 },
 "nbformat": 4,
 "nbformat_minor": 4
}
